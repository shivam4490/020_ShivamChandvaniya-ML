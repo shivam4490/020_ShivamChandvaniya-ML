{
  "nbformat": 4,
  "nbformat_minor": 5,
  "metadata": {
    "kernelspec": {
      "display_name": "Python 3 (ipykernel)",
      "language": "python",
      "name": "python3"
    },
    "language_info": {
      "codemirror_mode": {
        "name": "ipython",
        "version": 3
      },
      "file_extension": ".py",
      "mimetype": "text/x-python",
      "name": "python",
      "nbconvert_exporter": "python",
      "pygments_lexer": "ipython3",
      "version": "3.9.7"
    },
    "colab": {
      "name": "11_SVM_PCA.ipynb",
      "provenance": [],
      "collapsed_sections": []
    }
  },
  "cells": [
    {
      "cell_type": "code",
      "metadata": {
        "id": "wFVMy5mimFlv"
      },
      "source": [
        "from sklearn import datasets\n",
        "breast_cancer = datasets.load_breast_cancer()\n",
        "breast_data = breast_cancer.data\n",
        "breast_labels = breast_cancer.target"
      ],
      "id": "wFVMy5mimFlv",
      "execution_count": 1,
      "outputs": []
    },
    {
      "cell_type": "code",
      "metadata": {
        "colab": {
          "base_uri": "https://localhost:8080/"
        },
        "id": "F82iDqcZmldt",
        "outputId": "8312e241-d458-4c4d-aed8-3db3d4df70fa"
      },
      "source": [
        "print(breast_data.shape)\n",
        "print(breast_labels.shape)"
      ],
      "id": "F82iDqcZmldt",
      "execution_count": 2,
      "outputs": [
        {
          "output_type": "stream",
          "name": "stdout",
          "text": [
            "(569, 30)\n",
            "(569,)\n"
          ]
        }
      ]
    },
    {
      "cell_type": "code",
      "metadata": {
        "colab": {
          "base_uri": "https://localhost:8080/"
        },
        "id": "8DjovJySmvMS",
        "outputId": "c29c49cb-d9ed-4049-9b56-3c030b892f9f"
      },
      "source": [
        "import numpy as np\n",
        "labels = np.reshape(breast_labels,(569,1))\n",
        "final_breast_data = np.concatenate([breast_data,labels],axis=1)\n",
        "final_breast_data.shape"
      ],
      "id": "8DjovJySmvMS",
      "execution_count": 3,
      "outputs": [
        {
          "output_type": "execute_result",
          "data": {
            "text/plain": [
              "(569, 31)"
            ]
          },
          "metadata": {},
          "execution_count": 3
        }
      ]
    },
    {
      "cell_type": "code",
      "metadata": {
        "colab": {
          "base_uri": "https://localhost:8080/"
        },
        "id": "AehFeqGhm0AF",
        "outputId": "d7b6af00-3fc8-41f6-eb7d-bae85d090677"
      },
      "source": [
        "import pandas as pd\n",
        "breast_dataset = pd.DataFrame(final_breast_data)\n",
        "features = breast_cancer.feature_names\n",
        "features"
      ],
      "id": "AehFeqGhm0AF",
      "execution_count": 4,
      "outputs": [
        {
          "output_type": "execute_result",
          "data": {
            "text/plain": [
              "array(['mean radius', 'mean texture', 'mean perimeter', 'mean area',\n",
              "       'mean smoothness', 'mean compactness', 'mean concavity',\n",
              "       'mean concave points', 'mean symmetry', 'mean fractal dimension',\n",
              "       'radius error', 'texture error', 'perimeter error', 'area error',\n",
              "       'smoothness error', 'compactness error', 'concavity error',\n",
              "       'concave points error', 'symmetry error',\n",
              "       'fractal dimension error', 'worst radius', 'worst texture',\n",
              "       'worst perimeter', 'worst area', 'worst smoothness',\n",
              "       'worst compactness', 'worst concavity', 'worst concave points',\n",
              "       'worst symmetry', 'worst fractal dimension'], dtype='<U23')"
            ]
          },
          "metadata": {},
          "execution_count": 4
        }
      ]
    },
    {
      "cell_type": "code",
      "metadata": {
        "colab": {
          "base_uri": "https://localhost:8080/"
        },
        "id": "3yPXvSZNm3XA",
        "outputId": "051bce79-c5ff-44fb-c279-5a3edf944507"
      },
      "source": [
        "final_breast_data[0:5]"
      ],
      "id": "3yPXvSZNm3XA",
      "execution_count": 5,
      "outputs": [
        {
          "output_type": "execute_result",
          "data": {
            "text/plain": [
              "array([[1.799e+01, 1.038e+01, 1.228e+02, 1.001e+03, 1.184e-01, 2.776e-01,\n",
              "        3.001e-01, 1.471e-01, 2.419e-01, 7.871e-02, 1.095e+00, 9.053e-01,\n",
              "        8.589e+00, 1.534e+02, 6.399e-03, 4.904e-02, 5.373e-02, 1.587e-02,\n",
              "        3.003e-02, 6.193e-03, 2.538e+01, 1.733e+01, 1.846e+02, 2.019e+03,\n",
              "        1.622e-01, 6.656e-01, 7.119e-01, 2.654e-01, 4.601e-01, 1.189e-01,\n",
              "        0.000e+00],\n",
              "       [2.057e+01, 1.777e+01, 1.329e+02, 1.326e+03, 8.474e-02, 7.864e-02,\n",
              "        8.690e-02, 7.017e-02, 1.812e-01, 5.667e-02, 5.435e-01, 7.339e-01,\n",
              "        3.398e+00, 7.408e+01, 5.225e-03, 1.308e-02, 1.860e-02, 1.340e-02,\n",
              "        1.389e-02, 3.532e-03, 2.499e+01, 2.341e+01, 1.588e+02, 1.956e+03,\n",
              "        1.238e-01, 1.866e-01, 2.416e-01, 1.860e-01, 2.750e-01, 8.902e-02,\n",
              "        0.000e+00],\n",
              "       [1.969e+01, 2.125e+01, 1.300e+02, 1.203e+03, 1.096e-01, 1.599e-01,\n",
              "        1.974e-01, 1.279e-01, 2.069e-01, 5.999e-02, 7.456e-01, 7.869e-01,\n",
              "        4.585e+00, 9.403e+01, 6.150e-03, 4.006e-02, 3.832e-02, 2.058e-02,\n",
              "        2.250e-02, 4.571e-03, 2.357e+01, 2.553e+01, 1.525e+02, 1.709e+03,\n",
              "        1.444e-01, 4.245e-01, 4.504e-01, 2.430e-01, 3.613e-01, 8.758e-02,\n",
              "        0.000e+00],\n",
              "       [1.142e+01, 2.038e+01, 7.758e+01, 3.861e+02, 1.425e-01, 2.839e-01,\n",
              "        2.414e-01, 1.052e-01, 2.597e-01, 9.744e-02, 4.956e-01, 1.156e+00,\n",
              "        3.445e+00, 2.723e+01, 9.110e-03, 7.458e-02, 5.661e-02, 1.867e-02,\n",
              "        5.963e-02, 9.208e-03, 1.491e+01, 2.650e+01, 9.887e+01, 5.677e+02,\n",
              "        2.098e-01, 8.663e-01, 6.869e-01, 2.575e-01, 6.638e-01, 1.730e-01,\n",
              "        0.000e+00],\n",
              "       [2.029e+01, 1.434e+01, 1.351e+02, 1.297e+03, 1.003e-01, 1.328e-01,\n",
              "        1.980e-01, 1.043e-01, 1.809e-01, 5.883e-02, 7.572e-01, 7.813e-01,\n",
              "        5.438e+00, 9.444e+01, 1.149e-02, 2.461e-02, 5.688e-02, 1.885e-02,\n",
              "        1.756e-02, 5.115e-03, 2.254e+01, 1.667e+01, 1.522e+02, 1.575e+03,\n",
              "        1.374e-01, 2.050e-01, 4.000e-01, 1.625e-01, 2.364e-01, 7.678e-02,\n",
              "        0.000e+00]])"
            ]
          },
          "metadata": {},
          "execution_count": 5
        }
      ]
    },
    {
      "cell_type": "code",
      "metadata": {
        "id": "MNtMiE9wm-Ep"
      },
      "source": [
        "from sklearn.model_selection import train_test_split\n",
        "X_train, X_test, y_train, y_test = train_test_split(breast_data,\n",
        "        breast_labels, random_state=20)"
      ],
      "id": "MNtMiE9wm-Ep",
      "execution_count": 6,
      "outputs": []
    },
    {
      "cell_type": "code",
      "metadata": {
        "colab": {
          "base_uri": "https://localhost:8080/"
        },
        "id": "FgOZNfDqnBi2",
        "outputId": "e3bfa5b7-5102-4754-88d4-2136d2f2c472"
      },
      "source": [
        "print(X_train.shape, X_test.shape)"
      ],
      "id": "FgOZNfDqnBi2",
      "execution_count": 7,
      "outputs": [
        {
          "output_type": "stream",
          "name": "stdout",
          "text": [
            "(426, 30) (143, 30)\n"
          ]
        }
      ]
    },
    {
      "cell_type": "code",
      "metadata": {
        "colab": {
          "base_uri": "https://localhost:8080/"
        },
        "id": "W2KGzq8CnQg2",
        "outputId": "3e1b3352-d5fc-425b-eeaf-24698ccff930"
      },
      "source": [
        "\"\"\"Preprocessing: Principal Component Analysis\n",
        "-------------------------------------------\n",
        "We can use PCA to reduce these features to a manageable size, while maintaining most of the information\n",
        "in the dataset.\n",
        "\"\"\"\n",
        "\n",
        "from sklearn import decomposition\n",
        "pca = decomposition.PCA(n_components=20, whiten=True)\n",
        "pca.fit(X_train)"
      ],
      "id": "W2KGzq8CnQg2",
      "execution_count": 8,
      "outputs": [
        {
          "output_type": "execute_result",
          "data": {
            "text/plain": [
              "PCA(copy=True, iterated_power='auto', n_components=20, random_state=None,\n",
              "    svd_solver='auto', tol=0.0, whiten=True)"
            ]
          },
          "metadata": {},
          "execution_count": 8
        }
      ]
    },
    {
      "cell_type": "code",
      "metadata": {
        "colab": {
          "base_uri": "https://localhost:8080/"
        },
        "id": "Lji5_OmQnTx2",
        "outputId": "26da4959-ca54-4d64-ffaa-353d8d35a5ff"
      },
      "source": [
        "\"\"\"The principal components measure deviations about this mean along\n",
        "orthogonal axes.\n",
        "\"\"\"\n",
        "\n",
        "print(pca.components_.shape)"
      ],
      "id": "Lji5_OmQnTx2",
      "execution_count": 9,
      "outputs": [
        {
          "output_type": "stream",
          "name": "stdout",
          "text": [
            "(20, 30)\n"
          ]
        }
      ]
    },
    {
      "cell_type": "code",
      "metadata": {
        "colab": {
          "base_uri": "https://localhost:8080/"
        },
        "id": "chWncsfTnm-u",
        "outputId": "c598566f-73ba-46ed-c025-c7f0f92750b5"
      },
      "source": [
        "\"\"\"With this projection computed, we can now project our original training\n",
        "and test data onto the PCA basis:\n",
        "\"\"\"\n",
        "\n",
        "X_train_pca = pca.transform(X_train)\n",
        "X_test_pca = pca.transform(X_test)\n",
        "print(X_train_pca.shape)\n",
        "\n",
        "print(X_test_pca.shape)"
      ],
      "id": "chWncsfTnm-u",
      "execution_count": 10,
      "outputs": [
        {
          "output_type": "stream",
          "name": "stdout",
          "text": [
            "(426, 20)\n",
            "(143, 20)\n"
          ]
        }
      ]
    },
    {
      "cell_type": "code",
      "metadata": {
        "colab": {
          "base_uri": "https://localhost:8080/"
        },
        "id": "9_vEMDaNnska",
        "outputId": "17c4c353-0262-4ecc-eb1d-2d140dd62d18"
      },
      "source": [
        "\"\"\"\n",
        "Doing the Learning: Support Vector Machines\n",
        "-------------------------------------------\n",
        "Now we'll perform support-vector-machine classification on this reduced\n",
        "dataset:\n",
        "\"\"\"\n",
        "\n",
        "from sklearn import svm\n",
        "clf = svm.SVC(C=5., gamma=0.001)\n",
        "clf.fit(X_train_pca, y_train)"
      ],
      "id": "9_vEMDaNnska",
      "execution_count": 11,
      "outputs": [
        {
          "output_type": "execute_result",
          "data": {
            "text/plain": [
              "SVC(C=5.0, break_ties=False, cache_size=200, class_weight=None, coef0=0.0,\n",
              "    decision_function_shape='ovr', degree=3, gamma=0.001, kernel='rbf',\n",
              "    max_iter=-1, probability=False, random_state=None, shrinking=True,\n",
              "    tol=0.001, verbose=False)"
            ]
          },
          "metadata": {},
          "execution_count": 11
        }
      ]
    },
    {
      "cell_type": "code",
      "metadata": {
        "colab": {
          "base_uri": "https://localhost:8080/"
        },
        "id": "X9jttYOHnvvl",
        "outputId": "f7a63ce7-5798-49dd-8b88-e983adc40154"
      },
      "source": [
        "from sklearn import metrics\n",
        "y_pred = clf.predict(X_test_pca)\n",
        "print(metrics.classification_report(y_test, y_pred))"
      ],
      "id": "X9jttYOHnvvl",
      "execution_count": 12,
      "outputs": [
        {
          "output_type": "stream",
          "name": "stdout",
          "text": [
            "              precision    recall  f1-score   support\n",
            "\n",
            "           0       0.98      0.86      0.92        57\n",
            "           1       0.91      0.99      0.95        86\n",
            "\n",
            "    accuracy                           0.94       143\n",
            "   macro avg       0.95      0.92      0.93       143\n",
            "weighted avg       0.94      0.94      0.94       143\n",
            "\n"
          ]
        }
      ]
    },
    {
      "cell_type": "code",
      "metadata": {
        "colab": {
          "base_uri": "https://localhost:8080/"
        },
        "id": "QgyMtSsOn1IZ",
        "outputId": "37d99ed3-0666-47d9-d267-6540975eec07"
      },
      "source": [
        "\"\"\"Another interesting metric is the *confusion matrix*, which indicates\n",
        "how often any two items are mixed-up. The confusion matrix of a perfect\n",
        "classifier would only have nonzero entries on the diagonal, with zeros\n",
        "on the off-diagonal:\n",
        "\"\"\"\n",
        "\n",
        "print(metrics.confusion_matrix(y_test, y_pred))"
      ],
      "id": "QgyMtSsOn1IZ",
      "execution_count": 13,
      "outputs": [
        {
          "output_type": "stream",
          "name": "stdout",
          "text": [
            "[[49  8]\n",
            " [ 1 85]]\n"
          ]
        }
      ]
    },
    {
      "cell_type": "code",
      "metadata": {
        "id": "_D8cs09Vn6U_"
      },
      "source": [
        "\"\"\"With Iris Dataset\"\"\"\n",
        "\n",
        "iris = datasets.load_iris()\n",
        "iris_data = iris.data\n",
        "iris_labels = iris.target"
      ],
      "id": "_D8cs09Vn6U_",
      "execution_count": 14,
      "outputs": []
    },
    {
      "cell_type": "code",
      "metadata": {
        "colab": {
          "base_uri": "https://localhost:8080/"
        },
        "id": "Y_7DdDhNoAmF",
        "outputId": "6c7a3711-80d1-47b2-f5b8-fabacdb529c0"
      },
      "source": [
        "print(iris_data.shape)\n",
        "print(iris_labels.shape)"
      ],
      "id": "Y_7DdDhNoAmF",
      "execution_count": 15,
      "outputs": [
        {
          "output_type": "stream",
          "name": "stdout",
          "text": [
            "(150, 4)\n",
            "(150,)\n"
          ]
        }
      ]
    },
    {
      "cell_type": "code",
      "metadata": {
        "colab": {
          "base_uri": "https://localhost:8080/"
        },
        "id": "Z_BT9096oDNu",
        "outputId": "1629866a-9b9a-4ce1-8a40-757030982795"
      },
      "source": [
        "features = iris.feature_names\n",
        "features"
      ],
      "id": "Z_BT9096oDNu",
      "execution_count": 16,
      "outputs": [
        {
          "output_type": "execute_result",
          "data": {
            "text/plain": [
              "['sepal length (cm)',\n",
              " 'sepal width (cm)',\n",
              " 'petal length (cm)',\n",
              " 'petal width (cm)']"
            ]
          },
          "metadata": {},
          "execution_count": 16
        }
      ]
    },
    {
      "cell_type": "code",
      "metadata": {
        "id": "aS3pcvaJoGq0"
      },
      "source": [
        "from sklearn.model_selection import train_test_split\n",
        "X_train, X_test, y_train, y_test = train_test_split(iris_data,\n",
        "        iris_labels, random_state=20)"
      ],
      "id": "aS3pcvaJoGq0",
      "execution_count": 17,
      "outputs": []
    },
    {
      "cell_type": "code",
      "metadata": {
        "colab": {
          "base_uri": "https://localhost:8080/"
        },
        "id": "3gWM0I-_oIPM",
        "outputId": "8acb4263-a85e-4527-951d-af65439fd1b8"
      },
      "source": [
        "print(X_train.shape, X_test.shape)"
      ],
      "id": "3gWM0I-_oIPM",
      "execution_count": 18,
      "outputs": [
        {
          "output_type": "stream",
          "name": "stdout",
          "text": [
            "(112, 4) (38, 4)\n"
          ]
        }
      ]
    },
    {
      "cell_type": "code",
      "metadata": {
        "colab": {
          "base_uri": "https://localhost:8080/"
        },
        "id": "jRbKVb4poOvZ",
        "outputId": "9158aa57-d944-4b7f-e5d0-3d0144d9c7ed"
      },
      "source": [
        "\"\"\"Preprocessing: Principal Component Analysis\n",
        "We can use PCA to reduce these features to a manageable size, while maintaining most of the information in the dataset.\n",
        "\"\"\"\n",
        "\n",
        "from sklearn import decomposition\n",
        "pca = decomposition.PCA(n_components=2, whiten=True)\n",
        "pca.fit(X_train)"
      ],
      "id": "jRbKVb4poOvZ",
      "execution_count": 19,
      "outputs": [
        {
          "output_type": "execute_result",
          "data": {
            "text/plain": [
              "PCA(copy=True, iterated_power='auto', n_components=2, random_state=None,\n",
              "    svd_solver='auto', tol=0.0, whiten=True)"
            ]
          },
          "metadata": {},
          "execution_count": 19
        }
      ]
    },
    {
      "cell_type": "code",
      "metadata": {
        "colab": {
          "base_uri": "https://localhost:8080/"
        },
        "id": "RYDwf9HGoRlb",
        "outputId": "c4804b01-a088-44df-8edd-0bcdf243b737"
      },
      "source": [
        "print(pca.components_.shape)"
      ],
      "id": "RYDwf9HGoRlb",
      "execution_count": 20,
      "outputs": [
        {
          "output_type": "stream",
          "name": "stdout",
          "text": [
            "(2, 4)\n"
          ]
        }
      ]
    },
    {
      "cell_type": "code",
      "metadata": {
        "colab": {
          "base_uri": "https://localhost:8080/"
        },
        "id": "cz_Ui6RsoWop",
        "outputId": "a35d45ca-c24c-46fa-a23a-52b22692c844"
      },
      "source": [
        "X_train_pca = pca.transform(X_train)\n",
        "X_test_pca = pca.transform(X_test)\n",
        "print(X_train_pca.shape)"
      ],
      "id": "cz_Ui6RsoWop",
      "execution_count": 21,
      "outputs": [
        {
          "output_type": "stream",
          "name": "stdout",
          "text": [
            "(112, 2)\n"
          ]
        }
      ]
    },
    {
      "cell_type": "code",
      "metadata": {
        "colab": {
          "base_uri": "https://localhost:8080/"
        },
        "id": "pyWIR47toZWM",
        "outputId": "59dba86e-3984-4b90-df94-90ac56c6c39f"
      },
      "source": [
        "print(X_test_pca.shape)"
      ],
      "id": "pyWIR47toZWM",
      "execution_count": 22,
      "outputs": [
        {
          "output_type": "stream",
          "name": "stdout",
          "text": [
            "(38, 2)\n"
          ]
        }
      ]
    },
    {
      "cell_type": "code",
      "metadata": {
        "colab": {
          "base_uri": "https://localhost:8080/"
        },
        "id": "u917yTQjofMk",
        "outputId": "05af451a-2e52-4595-afba-9e61182bb38d"
      },
      "source": [
        "from sklearn import svm\n",
        "clf = svm.SVC(C=5., gamma=0.001)\n",
        "clf.fit(X_train_pca, y_train)"
      ],
      "id": "u917yTQjofMk",
      "execution_count": 23,
      "outputs": [
        {
          "output_type": "execute_result",
          "data": {
            "text/plain": [
              "SVC(C=5.0, break_ties=False, cache_size=200, class_weight=None, coef0=0.0,\n",
              "    decision_function_shape='ovr', degree=3, gamma=0.001, kernel='rbf',\n",
              "    max_iter=-1, probability=False, random_state=None, shrinking=True,\n",
              "    tol=0.001, verbose=False)"
            ]
          },
          "metadata": {},
          "execution_count": 23
        }
      ]
    },
    {
      "cell_type": "code",
      "metadata": {
        "colab": {
          "base_uri": "https://localhost:8080/"
        },
        "id": "7wdT0Wvmoi1v",
        "outputId": "d5b02fa0-bde2-403e-d740-6937a0d2ead2"
      },
      "source": [
        "from sklearn import metrics\n",
        "y_pred = clf.predict(X_test_pca)\n",
        "print(metrics.classification_report(y_test, y_pred))"
      ],
      "id": "7wdT0Wvmoi1v",
      "execution_count": 24,
      "outputs": [
        {
          "output_type": "stream",
          "name": "stdout",
          "text": [
            "              precision    recall  f1-score   support\n",
            "\n",
            "           0       1.00      1.00      1.00        12\n",
            "           1       0.71      0.36      0.48        14\n",
            "           2       0.53      0.83      0.65        12\n",
            "\n",
            "    accuracy                           0.71        38\n",
            "   macro avg       0.75      0.73      0.71        38\n",
            "weighted avg       0.75      0.71      0.69        38\n",
            "\n"
          ]
        }
      ]
    },
    {
      "cell_type": "code",
      "metadata": {
        "colab": {
          "base_uri": "https://localhost:8080/"
        },
        "id": "-V2cuheiolOm",
        "outputId": "455afb7d-d146-44bc-cd04-0ce44ca14c79"
      },
      "source": [
        "print(metrics.confusion_matrix(y_test, y_pred))"
      ],
      "id": "-V2cuheiolOm",
      "execution_count": 25,
      "outputs": [
        {
          "output_type": "stream",
          "name": "stdout",
          "text": [
            "[[12  0  0]\n",
            " [ 0  5  9]\n",
            " [ 0  2 10]]\n"
          ]
        }
      ]
    }
  ]
}